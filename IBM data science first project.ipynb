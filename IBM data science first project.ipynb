{
 "cells": [
  {
   "cell_type": "markdown",
   "metadata": {},
   "source": [
    "<center>\n",
    "    <img src=\"https://cf-courses-data.s3.us.cloud-object-storage.appdomain.cloud/IBMDeveloperSkillsNetwork-DS0105EN-SkillsNetwork/labs/Module2/images/SN_web_lightmode.png\" width=\"300\" alt=\"cognitiveclass.ai logo\">\n",
    "</center>\n"
   ]
  },
  {
   "cell_type": "markdown",
   "metadata": {},
   "source": [
    "#### Add your code below following the instructions given in the course\n"
   ]
  },
  {
   "cell_type": "markdown",
   "metadata": {},
   "source": [
    "# Title: IBM course first project"
   ]
  },
  {
   "cell_type": "markdown",
   "metadata": {},
   "source": [
    "# 1. Introduction:\n",
    "I am Ziqin He and this is the first project of the IBM data science course "
   ]
  },
  {
   "cell_type": "markdown",
   "metadata": {},
   "source": [
    "# 2. List of data science languages:\n",
    "Python, R, SQL,Matlab, Java, Julia"
   ]
  },
  {
   "cell_type": "markdown",
   "metadata": {},
   "source": [
    "# 3. Data Science Libraries:\n",
    "Python libraries: Numpy, Pandas, matplotlib, seaborn, skcikitlearn, tenserflow\n",
    "\n",
    "R libraries: dplyr,ggplot2, caret,randomForest"
   ]
  },
  {
   "cell_type": "markdown",
   "metadata": {},
   "source": [
    "# 4.Table of Data Science Tools:\n",
    "# Data Science Tools\n",
    "\n",
    "| **Category**             | **Tools/Frameworks**                     | **Description**                                    |\n",
    "|--------------------------|------------------------------------------|--------------------------------------------------|\n",
    "| Data Manipulation        | Pandas, NumPy, Dask, R (dplyr, data.table) | Tools for cleaning, transforming, and analyzing data. |\n",
    "| Data Visualization       | Matplotlib, Seaborn, Plotly, ggplot2, Bokeh | Libraries for creating static and interactive visualizations. |\n",
    "| Machine Learning         | Scikit-learn, TensorFlow, PyTorch, XGBoost, LightGBM | Frameworks for building machine learning models. |\n",
    "| Big Data and Distributed Computing | Apache Spark, Hadoop, PySpark, Dask | Platforms for handling and processing large datasets. |\n",
    "| Natural Language Processing (NLP) | NLTK, spaCy, Hugging Face Transformers | Libraries for processing and analyzing text data. |\n",
    "| Time Series Analysis     | Statsmodels, Prophet, tslearn            | Libraries for time series forecasting and analysis. |\n",
    "| Deep Learning            | TensorFlow, PyTorch, Keras, MXNet        | Frameworks for designing and training deep learning models. |\n",
    "| Database Management      | MySQL, PostgreSQL, MongoDB, SQLite       | Tools for managing and querying structured and unstructured data. |\n",
    "| Data Engineering         | Apache Kafka, Airflow, Talend            | Tools for data pipeline development and management. |\n",
    "| Integrated Development Environments (IDEs) | Jupyter Notebook, RStudio, Google Colab | Platforms for interactive coding and analysis. |\n"
   ]
  },
  {
   "cell_type": "markdown",
   "metadata": {},
   "source": [
    "# 5 Arithmetric example:\n",
    "(20+5)/2= 12.5"
   ]
  },
  {
   "cell_type": "code",
   "execution_count": 2,
   "metadata": {},
   "outputs": [
    {
     "data": {
      "text/plain": [
       "12.5"
      ]
     },
     "execution_count": 2,
     "metadata": {},
     "output_type": "execute_result"
    }
   ],
   "source": [
    "(20+5)/2"
   ]
  },
  {
   "cell_type": "markdown",
   "metadata": {},
   "source": [
    "# 6.Convert minute to hours:"
   ]
  },
  {
   "cell_type": "code",
   "execution_count": 3,
   "metadata": {},
   "outputs": [
    {
     "name": "stdin",
     "output_type": "stream",
     "text": [
      "Enter the number of minutes:  66\n"
     ]
    },
    {
     "name": "stdout",
     "output_type": "stream",
     "text": [
      "66 minutes is equal to 1.10 hours.\n"
     ]
    }
   ],
   "source": [
    "# Function to convert minutes to hours\n",
    "def minutes_to_hours(minutes):\n",
    "    hours = minutes / 60\n",
    "    return hours\n",
    "\n",
    "# Input: Number of minutes\n",
    "minutes = int(input(\"Enter the number of minutes: \"))\n",
    "\n",
    "# Convert to hours and display the result\n",
    "hours = minutes_to_hours(minutes)\n",
    "print(f\"{minutes} minutes is equal to {hours:.2f} hours.\")"
   ]
  },
  {
   "cell_type": "code",
   "execution_count": null,
   "metadata": {},
   "outputs": [],
   "source": []
  }
 ],
 "metadata": {
  "kernelspec": {
   "display_name": "Python 3 (ipykernel)",
   "language": "python",
   "name": "python3"
  },
  "language_info": {
   "codemirror_mode": {
    "name": "ipython",
    "version": 3
   },
   "file_extension": ".py",
   "mimetype": "text/x-python",
   "name": "python",
   "nbconvert_exporter": "python",
   "pygments_lexer": "ipython3",
   "version": "3.11.9"
  }
 },
 "nbformat": 4,
 "nbformat_minor": 4
}
